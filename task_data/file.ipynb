{
 "cells": [
  {
   "cell_type": "code",
   "execution_count": 2,
   "metadata": {},
   "outputs": [
    {
     "name": "stdout",
     "output_type": "stream",
     "text": [
      "Defaulting to user installation because normal site-packages is not writeable\n",
      "Collecting mysql-connector-python\n",
      "  Downloading mysql_connector_python-9.3.0-cp312-cp312-win_amd64.whl.metadata (7.7 kB)\n",
      "Downloading mysql_connector_python-9.3.0-cp312-cp312-win_amd64.whl (16.4 MB)\n",
      "   ---------------------------------------- 0.0/16.4 MB ? eta -:--:--\n",
      "   -------- ------------------------------- 3.4/16.4 MB 22.3 MB/s eta 0:00:01\n",
      "   ----------- ---------------------------- 4.7/16.4 MB 13.0 MB/s eta 0:00:01\n",
      "   -------------- ------------------------- 5.8/16.4 MB 9.8 MB/s eta 0:00:02\n",
      "   ---------------- ----------------------- 6.6/16.4 MB 8.8 MB/s eta 0:00:02\n",
      "   ----------------- ---------------------- 7.1/16.4 MB 7.8 MB/s eta 0:00:02\n",
      "   ------------------ --------------------- 7.6/16.4 MB 6.2 MB/s eta 0:00:02\n",
      "   ------------------- -------------------- 7.9/16.4 MB 5.9 MB/s eta 0:00:02\n",
      "   --------------------- ------------------ 8.7/16.4 MB 5.3 MB/s eta 0:00:02\n",
      "   ----------------------- ---------------- 9.4/16.4 MB 5.2 MB/s eta 0:00:02\n",
      "   ------------------------- -------------- 10.5/16.4 MB 5.1 MB/s eta 0:00:02\n",
      "   ---------------------------- ----------- 11.5/16.4 MB 5.2 MB/s eta 0:00:01\n",
      "   -------------------------------- ------- 13.1/16.4 MB 5.3 MB/s eta 0:00:01\n",
      "   ----------------------------------- ---- 14.4/16.4 MB 5.5 MB/s eta 0:00:01\n",
      "   ------------------------------------- -- 15.5/16.4 MB 5.5 MB/s eta 0:00:01\n",
      "   ---------------------------------------- 16.4/16.4 MB 5.4 MB/s eta 0:00:00\n",
      "Installing collected packages: mysql-connector-python\n",
      "Successfully installed mysql-connector-python-9.3.0\n"
     ]
    }
   ],
   "source": [
    "! pip install mysql-connector-python"
   ]
  },
  {
   "cell_type": "code",
   "execution_count": 2,
   "metadata": {},
   "outputs": [
    {
     "name": "stdout",
     "output_type": "stream",
     "text": [
      "Defaulting to user installation because normal site-packages is not writeable\n",
      "Requirement already satisfied: pandas in c:\\users\\vivek\\appdata\\roaming\\python\\python312\\site-packages (2.2.0)\n",
      "Requirement already satisfied: numpy<2,>=1.26.0 in c:\\users\\vivek\\appdata\\roaming\\python\\python312\\site-packages (from pandas) (1.26.4)\n",
      "Requirement already satisfied: python-dateutil>=2.8.2 in c:\\users\\vivek\\appdata\\roaming\\python\\python312\\site-packages (from pandas) (2.8.2)\n",
      "Requirement already satisfied: pytz>=2020.1 in c:\\users\\vivek\\appdata\\roaming\\python\\python312\\site-packages (from pandas) (2024.1)\n",
      "Requirement already satisfied: tzdata>=2022.7 in c:\\users\\vivek\\appdata\\roaming\\python\\python312\\site-packages (from pandas) (2024.1)\n",
      "Requirement already satisfied: six>=1.5 in c:\\users\\vivek\\appdata\\roaming\\python\\python312\\site-packages (from python-dateutil>=2.8.2->pandas) (1.16.0)\n"
     ]
    }
   ],
   "source": [
    "! pip install pandas"
   ]
  },
  {
   "cell_type": "code",
   "execution_count": 3,
   "metadata": {},
   "outputs": [],
   "source": [
    "import pandas as pd\n",
    "import json\n",
    "import mysql.connector\n",
    "import os\n",
    "\n",
    "file_path = os.path.join(r\"C:\\Users\\vivek\\Downloads\\data_engineer_assessment\\data\\fake_property_data.json\")\n",
    "\n",
    "with open(file_path) as f:\n",
    "    raw_data = json.load(f)\n",
    "df = pd.json_normalize(raw_data)\n",
    "\n",
    "# Load JSON \n",
    "# with open(r'data\\fake_property_data.json') as f:  \n",
    "#     raw_data = json.load(f)\n",
    "# df = pd.json_normalize(raw_data) \n",
    "\n",
    "# Clean & transform...\n",
    "# Load to DB\n",
    "conn = mysql.connector.connect(\n",
    "    host=\"localhost\", user=\"root\", password=\"Prateek@91_^\", database=\"Assignment\"\n",
    ")\n",
    "cursor = conn.cursor()\n",
    "for _, row in df.iterrows():\n",
    "    cursor.execute(\n",
    "        \"INSERT INTO properties (property_id, address, city, state) VALUES (%s, %s, %s, %s)\",\n",
    "        (row['Property_Title'], row['Address'], row['City'], row['State'])\n",
    "    )\n",
    "conn.commit()\n"
   ]
  },
  {
   "cell_type": "code",
   "execution_count": null,
   "metadata": {},
   "outputs": [],
   "source": [
    "# select * from "
   ]
  }
 ],
 "metadata": {
  "kernelspec": {
   "display_name": "Python 3",
   "language": "python",
   "name": "python3"
  },
  "language_info": {
   "codemirror_mode": {
    "name": "ipython",
    "version": 3
   },
   "file_extension": ".py",
   "mimetype": "text/x-python",
   "name": "python",
   "nbconvert_exporter": "python",
   "pygments_lexer": "ipython3",
   "version": "3.9.23"
  },
  "orig_nbformat": 4
 },
 "nbformat": 4,
 "nbformat_minor": 2
}
